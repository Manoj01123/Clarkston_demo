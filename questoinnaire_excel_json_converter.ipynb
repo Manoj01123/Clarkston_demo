{
 "cells": [
  {
   "cell_type": "code",
   "execution_count": 78,
   "id": "3b0c883e-3b22-45d9-b50f-89568abe17fe",
   "metadata": {},
   "outputs": [],
   "source": [
    "import pandas as pd\n",
    "from openpyxl import load_workbook\n",
    "from openpyxl.utils.dataframe import dataframe_to_rows\n",
    "import json\n",
    "\n",
    "excel_file = \"SupplyChainDiagnostic_test.xlsx\"\n",
    "num_participants = 21\n",
    "num_question_list = [35,15,34,15,35,18,24,28,21,14,15,15,1,14]\n",
    "worksheet_list = [\"Forecasting - Demand Planning\", \"New Product Development\", \"Production Planning\", \"Inventory Management\", \"Strategic Sourcing\",\n",
    "                  \"Procurement\", \"Sales & Ops Planning\", \"Distribution & Whse Mgt\", \"Transportation\", \"Master Data\",\n",
    "                  \"IT Systems\", \"Metrics\", \"LS Manufacturing\", \"LS New Product Development\"]\n",
    "\n",
    "questionnaire_dict = {}\n",
    "\n",
    "for i in range(len(worksheet_list)):\n",
    "    excel_sheet = pd.read_excel(excel_file, sheet_name=worksheet_list[i], skiprows=6, index_col=\"ID\")\n",
    "    excel_sheet = excel_sheet.iloc[:,0:5]\n",
    "    excel_sheet = excel_sheet.iloc[0:num_question_list[i],:]\n",
    "    sheet_name = excel_sheet.columns[0]\n",
    "    questions = list(excel_sheet[sheet_name])\n",
    "    maturity_weight = list(excel_sheet[\"Maturity Level\"])\n",
    "    ques_mat_dict = dict(zip(questions, maturity_weight))\n",
    "    questionnaire_dict[worksheet_list[i]] = ques_mat_dict\n",
    "    \n",
    "    \n",
    "with open(\"Clarkston_questionnaire.json\", \"w\") as outfile:\n",
    "    json.dump(questionnaire_dict, outfile)"
   ]
  },
  {
   "cell_type": "code",
   "execution_count": null,
   "id": "4a6a2e3d-1472-4df1-8175-0635623a8260",
   "metadata": {},
   "outputs": [],
   "source": []
  }
 ],
 "metadata": {
  "kernelspec": {
   "display_name": "Python 3 (ipykernel)",
   "language": "python",
   "name": "python3"
  },
  "language_info": {
   "codemirror_mode": {
    "name": "ipython",
    "version": 3
   },
   "file_extension": ".py",
   "mimetype": "text/x-python",
   "name": "python",
   "nbconvert_exporter": "python",
   "pygments_lexer": "ipython3",
   "version": "3.7.7"
  }
 },
 "nbformat": 4,
 "nbformat_minor": 5
}
