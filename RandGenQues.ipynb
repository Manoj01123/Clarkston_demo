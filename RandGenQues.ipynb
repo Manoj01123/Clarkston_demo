{
 "cells": [
  {
   "cell_type": "code",
   "execution_count": 8,
   "id": "5e449384-b1e8-4df9-bd37-15ce266114ad",
   "metadata": {},
   "outputs": [],
   "source": [
    "import pandas as pd\n",
    "import random\n",
    "from openpyxl import load_workbook\n",
    "from openpyxl.utils.dataframe import dataframe_to_rows\n",
    "\n",
    "def gen_random_data(num_participants, num_question):\n",
    "    fq_list = [\"Always/ Frequent\", \"Rarely/Never\", \"Don't Know/ NA\"]\n",
    "    fq_dict =  {\"Always/ Frequent\" : [1, 0, 0],\n",
    "                \"Rarely/Never\" : [0, 1, 0],\n",
    "                \"Don't Know/ NA\" : [0, 0, 1]}\n",
    "\n",
    "    res_part = []\n",
    "    for i in range(num_participants):\n",
    "        res_q = []\n",
    "        for j in range(num_question):\n",
    "            random_fq = random.choice(fq_list)\n",
    "            res_q.append(fq_dict[random_fq])\n",
    "        res_part.append(res_q)\n",
    "\n",
    "    df = pd.DataFrame(res_part[0])\n",
    "    for i in range(1,len(res_part)):\n",
    "        df = pd.concat([df, pd.DataFrame(res_part[i])], axis=1)\n",
    "        \n",
    "    return df\n",
    "\n",
    "num_participants = 30\n",
    "num_question_list = [35,15,34,15,35,18,24,28,21,14,15,15,1,14]\n",
    "worksheet_list = [\"Forecasting - Demand Planning\", \"New Product Development\", \"Production Planning\", \"Inventory Management\", \"Strategic Sourcing\",\n",
    "                  \"Procurement\", \"Sales & Ops Planning\", \"Distribution & Whse Mgt\", \"Transportation\", \"Master Data\",\n",
    "                  \"IT Systems\", \"Metrics\", \"LS Manufacturing\", \"LS New Product Development\"]\n",
    "\n",
    "for i in range(len(worksheet_list)):\n",
    "    df = gen_random_data(num_participants, num_question_list[i])\n",
    "\n",
    "    # open the Excel file using openpyxl\n",
    "    book = load_workbook('SupplyChainDiagnostic_test.xlsx')\n",
    "\n",
    "    # select the worksheet to write to\n",
    "    worksheet_name = worksheet_list[i]\n",
    "    ws = book[worksheet_name]\n",
    "\n",
    "    # write the dataframe to specific cells in the selected worksheet\n",
    "    \n",
    "    start_row = 8  # 1-based index of the first row to write data to\n",
    "    start_col = 'I'  # column letter to start writing data to\n",
    "    for r in dataframe_to_rows(df, index=False, header=False):\n",
    "        for cell_idx, cell_value in enumerate(r):\n",
    "            cell = ws.cell(row=start_row, column=ord(start_col) - 64 + cell_idx)\n",
    "            cell.value = cell_value\n",
    "        start_row += 1\n",
    "\n",
    "    # save the changes to the Excel file\n",
    "    book.save('SupplyChainDiagnostic_test.xlsx')\n"
   ]
  },
  {
   "cell_type": "code",
   "execution_count": null,
   "id": "2912be2d-7b17-4b49-be5b-99dcdf675911",
   "metadata": {},
   "outputs": [],
   "source": []
  }
 ],
 "metadata": {
  "kernelspec": {
   "display_name": "Python 3 (ipykernel)",
   "language": "python",
   "name": "python3"
  },
  "language_info": {
   "codemirror_mode": {
    "name": "ipython",
    "version": 3
   },
   "file_extension": ".py",
   "mimetype": "text/x-python",
   "name": "python",
   "nbconvert_exporter": "python",
   "pygments_lexer": "ipython3",
   "version": "3.7.7"
  }
 },
 "nbformat": 4,
 "nbformat_minor": 5
}
